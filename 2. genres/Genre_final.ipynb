{
 "cells": [
  {
   "cell_type": "markdown",
   "metadata": {},
   "source": [
    "### STEP 0. IMPORTING AND SETTING UP USER AGENT"
   ]
  },
  {
   "cell_type": "code",
   "execution_count": 1,
   "metadata": {},
   "outputs": [],
   "source": [
    "import urllib.request, urllib.parse, urllib.error\n",
    "from bs4 import BeautifulSoup\n",
    "import ssl\n",
    "import requests\n",
    "\n",
    "# Ignore SSL certificate errors\n",
    "ctx = ssl.create_default_context()\n",
    "ctx.check_hostname = False\n",
    "ctx.verify_mode = ssl.CERT_NONE\n",
    "\n",
    "#we need to use a user agent here, because metacritics does not accept bots\n",
    "#we are using a tested go-to user agent here, it can be found online\n",
    "#read more about user agents here:\n",
    "#https://www.scrapehero.com/how-to-fake-and-rotate-user-agents-using-python-3/\n",
    "headers = {'User-Agent': 'Mozilla/5.0 (Macintosh; Intel Mac OS X 10_13_6) AppleWebKit/537.36 (KHTML, like Gecko) Chrome/70.0.3538.77 Safari/537.36'}"
   ]
  },
  {
   "cell_type": "markdown",
   "metadata": {},
   "source": [
    "# WEBSITE: www.metacritic.com\n",
    "\n",
    "### LINK: https://www.metacritic.com/browse/movies/score/metascore/all/filtered?sort=desc"
   ]
  },
  {
   "cell_type": "markdown",
   "metadata": {},
   "source": [
    "### STEP 1. EXTRACTING MOVIE NAMES"
   ]
  },
  {
   "cell_type": "code",
   "execution_count": 2,
   "metadata": {},
   "outputs": [
    {
     "name": "stdout",
     "output_type": "stream",
     "text": [
      "['Citizen Kane', 'The Godfather', 'Rear Window', 'Casablanca', 'Boyhood', 'Three Colors: Red', 'Vertigo', 'Notorious', \"Singin' in the Rain\", 'City Lights', 'Moonlight', 'Intolerance', 'Pinocchio', 'Touch of Evil', 'The Treasure of the Sierra Madre', \"Pan's Labyrinth\", 'Some Like It Hot', 'North by Northwest', 'Hoop Dreams', 'Rashomon', 'All About Eve', 'Jules and Jim', 'The Wild Bunch', 'My Left Foot', 'The Third Man', 'Dr. Strangelove or: How I Learned to Stop Worrying and Love the Bomb', 'Nomadland', 'Gone with the Wind', '4 Months, 3 Weeks and 2 Days', 'Psycho', 'Battleship Potemkin', 'A Streetcar Named Desire', 'American Graffiti', 'Dumbo', 'Roma', 'Ran', 'The Shop Around the Corner', '12 Angry Men', 'Manchester by the Sea', \"Rosemary's Baby\", 'The Maltese Falcon', '12 Years a Slave', 'Killer of Sheep', 'Rocks', 'Nashville', 'Ratatouille', 'Parasite', \"Don't Look Now\", 'The Grapes of Wrath', 'Children of Paradise (1945)']\n"
     ]
    }
   ],
   "source": [
    "url = \"https://www.metacritic.com/browse/movies/score/metascore/all/filtered?sort=desc\"\n",
    "page = requests.get(url, headers = headers)\n",
    "soup = BeautifulSoup(page.content, \"html.parser\")\n",
    "\n",
    "container = soup.find_all('td', class_ = 'clamp-summary-wrap')\n",
    "#print(type(container))\n",
    "\n",
    "#then lets find out how many movies we got\n",
    "len(container)\n",
    "\n",
    "movie_names = []\n",
    "movies = container[:50] #here we get the top 50 movies we want\n",
    "for movie in movies:\n",
    "    name = movie.find('h3').text\n",
    "    movie_names.append(name)\n",
    "print(movie_names)"
   ]
  },
  {
   "cell_type": "markdown",
   "metadata": {},
   "source": [
    "### STEP 2. EXTRACTING GENRES"
   ]
  },
  {
   "cell_type": "code",
   "execution_count": 3,
   "metadata": {},
   "outputs": [
    {
     "name": "stdout",
     "output_type": "stream",
     "text": [
      "[['Drama', 'Mystery'], ['Drama', 'Thriller', 'Crime'], ['Mystery', 'Thriller'], ['Drama', 'Romance', 'War'], ['Drama'], ['Drama', 'Mystery', 'Romance'], ['Mystery', 'Thriller', 'Romance'], ['Drama', 'Thriller', 'Romance', 'Film-Noir'], ['Comedy', 'Romance', 'Musical'], ['Drama', 'Comedy', 'Romance'], ['Drama'], ['Drama', 'History'], ['Fantasy', 'Comedy', 'Animation', 'Family', 'Musical'], ['Drama', 'Thriller', 'Crime', 'Film-Noir'], ['Adventure', 'Drama', 'Western'], ['Drama', 'Mystery', 'Thriller', 'Fantasy', 'War'], ['Comedy', 'Romance'], ['Action', 'Adventure', 'Mystery', 'Thriller'], ['Drama', 'Sport', 'Documentary'], ['Drama', 'Mystery', 'Crime'], ['Drama'], ['Drama', 'Romance'], ['Action', 'Adventure', 'Western'], ['Biography', 'Drama'], ['Mystery', 'Thriller', 'Film-Noir'], ['Drama', 'Thriller'], ['Drama'], ['Drama', 'History', 'Romance', 'War'], ['Drama'], ['Mystery', 'Thriller', 'Horror'], ['Drama', 'History', 'Thriller', 'War'], ['Drama'], ['Drama', 'Comedy'], ['Drama', 'Animation', 'Family', 'Musical'], ['Drama'], ['Action', 'Drama', 'War'], ['Drama', 'Comedy', 'Romance'], ['Drama', 'Crime'], ['Drama'], ['Drama', 'Horror'], ['Mystery', 'Film-Noir'], ['Biography', 'Drama', 'History'], ['Drama'], ['Drama'], ['Drama', 'Comedy', 'Music'], ['Fantasy', 'Comedy', 'Animation', 'Family'], ['Drama', 'Thriller', 'Comedy'], ['Drama', 'Thriller', 'Horror'], ['Drama', 'History'], ['Drama', 'Romance']]\n"
     ]
    }
   ],
   "source": [
    "#genres\n",
    "#now we need to click into each movie name in order to see detailed information\n",
    "#so we need to extract all the urls\n",
    "movie_links = []\n",
    "movies = container[:50]\n",
    "for movie in movies:\n",
    "    tag = movie.find('a', class_ = 'title')\n",
    "    link = tag.get('href', None)\n",
    "    movie_links.append('https://www.metacritic.com'+link)\n",
    "#print(movie_links)\n",
    "\n",
    "import re\n",
    "genre_list = []\n",
    "c=0\n",
    "for i in movie_links:\n",
    "    page = requests.get(i, headers = headers)\n",
    "    soup = BeautifulSoup(page.content, \"html.parser\")\n",
    "    tags = soup.find_all('div', class_ = 'genres')\n",
    "    for each in tags:\n",
    "        temp = each.contents[3].text\n",
    "        span = temp.strip().rstrip()\n",
    "        #span = span.rstrip()\n",
    "        span = span.replace(\" \", \"\");\n",
    "        genre_list.append(span.split(\",\"))\n",
    "print(genre_list)"
   ]
  },
  {
   "cell_type": "markdown",
   "metadata": {},
   "source": [
    "### STEP 3. CREATING A DICTIONARY"
   ]
  },
  {
   "cell_type": "code",
   "execution_count": 4,
   "metadata": {
    "scrolled": true
   },
   "outputs": [
    {
     "name": "stdout",
     "output_type": "stream",
     "text": [
      "{'Citizen Kane': ['Drama', 'Mystery'], 'The Godfather': ['Drama', 'Thriller', 'Crime'], 'Rear Window': ['Mystery', 'Thriller'], 'Casablanca': ['Drama', 'Romance', 'War'], 'Boyhood': ['Drama'], 'Three Colors: Red': ['Drama', 'Mystery', 'Romance'], 'Vertigo': ['Mystery', 'Thriller', 'Romance'], 'Notorious': ['Drama', 'Thriller', 'Romance', 'Film-Noir'], \"Singin' in the Rain\": ['Comedy', 'Romance', 'Musical'], 'City Lights': ['Drama', 'Comedy', 'Romance'], 'Moonlight': ['Drama'], 'Intolerance': ['Drama', 'History'], 'Pinocchio': ['Fantasy', 'Comedy', 'Animation', 'Family', 'Musical'], 'Touch of Evil': ['Drama', 'Thriller', 'Crime', 'Film-Noir'], 'The Treasure of the Sierra Madre': ['Adventure', 'Drama', 'Western'], \"Pan's Labyrinth\": ['Drama', 'Mystery', 'Thriller', 'Fantasy', 'War'], 'Some Like It Hot': ['Comedy', 'Romance'], 'North by Northwest': ['Action', 'Adventure', 'Mystery', 'Thriller'], 'Hoop Dreams': ['Drama', 'Sport', 'Documentary'], 'Rashomon': ['Drama', 'Mystery', 'Crime'], 'All About Eve': ['Drama'], 'Jules and Jim': ['Drama', 'Romance'], 'The Wild Bunch': ['Action', 'Adventure', 'Western'], 'My Left Foot': ['Biography', 'Drama'], 'The Third Man': ['Mystery', 'Thriller', 'Film-Noir'], 'Dr. Strangelove or: How I Learned to Stop Worrying and Love the Bomb': ['Drama', 'Thriller'], 'Nomadland': ['Drama'], 'Gone with the Wind': ['Drama', 'History', 'Romance', 'War'], '4 Months, 3 Weeks and 2 Days': ['Drama'], 'Psycho': ['Mystery', 'Thriller', 'Horror'], 'Battleship Potemkin': ['Drama', 'History', 'Thriller', 'War'], 'A Streetcar Named Desire': ['Drama'], 'American Graffiti': ['Drama', 'Comedy'], 'Dumbo': ['Drama', 'Animation', 'Family', 'Musical'], 'Roma': ['Drama'], 'Ran': ['Action', 'Drama', 'War'], 'The Shop Around the Corner': ['Drama', 'Comedy', 'Romance'], '12 Angry Men': ['Drama', 'Crime'], 'Manchester by the Sea': ['Drama'], \"Rosemary's Baby\": ['Drama', 'Horror'], 'The Maltese Falcon': ['Mystery', 'Film-Noir'], '12 Years a Slave': ['Biography', 'Drama', 'History'], 'Killer of Sheep': ['Drama'], 'Rocks': ['Drama'], 'Nashville': ['Drama', 'Comedy', 'Music'], 'Ratatouille': ['Fantasy', 'Comedy', 'Animation', 'Family'], 'Parasite': ['Drama', 'Thriller', 'Comedy'], \"Don't Look Now\": ['Drama', 'Thriller', 'Horror'], 'The Grapes of Wrath': ['Drama', 'History'], 'Children of Paradise (1945)': ['Drama', 'Romance']}\n"
     ]
    }
   ],
   "source": [
    "movies_genre_meta ={}\n",
    "keys = movie_names\n",
    "count = 0\n",
    "for i in keys:\n",
    "    movies_genre_meta[i] = genre_list[count]\n",
    "    count = count + 1\n",
    "    \n",
    "print(movies_genre_meta)"
   ]
  },
  {
   "cell_type": "markdown",
   "metadata": {},
   "source": [
    "# WEBSITE: www.imdb.com\n",
    "\n",
    "#### LINK: https://www.imdb.com/chart/top/"
   ]
  },
  {
   "cell_type": "markdown",
   "metadata": {},
   "source": [
    "### STEP 1. EXTRACTING MOVIE NAMES "
   ]
  },
  {
   "cell_type": "code",
   "execution_count": 5,
   "metadata": {},
   "outputs": [
    {
     "name": "stdout",
     "output_type": "stream",
     "text": [
      "['The Shawshank Redemption', 'The Godfather', 'The Godfather: Part II', 'The Dark Knight', '12 Angry Men', \"Schindler's List\", 'The Lord of the Rings: The Return of the King', 'Pulp Fiction', 'The Good, the Bad and the Ugly', 'The Lord of the Rings: The Fellowship of the Ring', 'Fight Club', 'Forrest Gump', 'Inception', 'The Lord of the Rings: The Two Towers', 'Star Wars: Episode V - The Empire Strikes Back', 'The Matrix', 'Goodfellas', \"One Flew Over the Cuckoo's Nest\", 'Seven Samurai', 'Se7en', 'Life Is Beautiful', 'City of God', 'The Silence of the Lambs', \"It's a Wonderful Life\", 'Star Wars: Episode IV - A New Hope', 'Saving Private Ryan', 'Spirited Away', 'The Green Mile', 'Interstellar', 'Parasite', 'Léon: The Professional', 'The Usual Suspects', 'Hara-Kiri', 'The Lion King', 'The Pianist', 'Back to the Future', 'Terminator 2: Judgment Day', 'American History X', 'Modern Times', 'Psycho', 'Gladiator', 'City Lights', 'The Departed', 'The Intouchables', 'Whiplash', 'The Prestige', 'Grave of the Fireflies', 'Once Upon a Time in the West', 'Hamilton', 'Casablanca']\n"
     ]
    }
   ],
   "source": [
    "url = \"https://www.imdb.com/chart/top/\"\n",
    "page = requests.get(url, headers = headers)\n",
    "soup = BeautifulSoup(page.content, \"html.parser\")\n",
    "\n",
    "container = soup.find_all('td', class_ = 'titleColumn')\n",
    "\n",
    "movie_names = []\n",
    "movies = container[:50] #here we get the top 50 movies we want\n",
    "for movie in movies:\n",
    "    name = movie.find('a').text\n",
    "    movie_names.append(name)\n",
    "print(movie_names)# WEBSITE: www.imdb.com\n",
    "\n",
    "#### LINK: https://www.imdb.com/chart/top/\n",
    "\n",
    "### STEP 1. EXTRACTING MOVIE NAMES "
   ]
  },
  {
   "cell_type": "markdown",
   "metadata": {},
   "source": [
    "### STEP 2. EXTRACTING GENRES"
   ]
  },
  {
   "cell_type": "code",
   "execution_count": 6,
   "metadata": {
    "scrolled": true
   },
   "outputs": [
    {
     "name": "stdout",
     "output_type": "stream",
     "text": [
      "Total links 50\n",
      "[['Drama'], ['Crime', 'Drama'], ['Crime', 'Drama'], ['Action', 'Crime', 'Drama', 'Thriller'], ['Crime', 'Drama'], ['Biography', 'Drama', 'History'], ['Action', 'Adventure', 'Drama', 'Fantasy'], ['Crime', 'Drama'], ['Western'], ['Action', 'Adventure', 'Drama', 'Fantasy'], ['Drama'], ['Drama', 'Romance'], ['Action', 'Adventure', 'Sci-Fi', 'Thriller'], ['Action', 'Adventure', 'Drama', 'Fantasy'], ['Action', 'Adventure', 'Fantasy', 'Sci-Fi'], ['Action', 'Sci-Fi'], ['Biography', 'Crime', 'Drama'], ['Drama'], ['Action', 'Adventure', 'Drama'], ['Crime', 'Drama', 'Mystery', 'Thriller'], ['Comedy', 'Drama', 'Romance', 'War'], ['Crime', 'Drama'], ['Crime', 'Drama', 'Thriller'], ['Drama', 'Family', 'Fantasy'], ['Action', 'Adventure', 'Fantasy', 'Sci-Fi'], ['Drama', 'War'], ['Animation', 'Adventure', 'Family', 'Fantasy', 'Mystery'], ['Crime', 'Drama', 'Fantasy', 'Mystery'], ['Adventure', 'Drama', 'Sci-Fi'], ['Comedy', 'Drama', 'Thriller'], ['Action', 'Crime', 'Drama', 'Thriller'], ['Crime', 'Mystery', 'Thriller'], ['Action', 'Drama', 'Mystery'], ['Animation', 'Adventure', 'Drama', 'Family', 'Musical'], ['Biography', 'Drama', 'Music', 'War'], ['Adventure', 'Comedy', 'Sci-Fi'], ['Action', 'Sci-Fi'], ['Drama'], ['Comedy', 'Drama', 'Family', 'Romance'], ['Horror', 'Mystery', 'Thriller'], ['Action', 'Adventure', 'Drama'], ['Comedy', 'Drama', 'Romance'], ['Crime', 'Drama', 'Thriller'], ['Biography', 'Comedy', 'Drama'], ['Drama', 'Music'], ['Drama', 'Mystery', 'Sci-Fi', 'Thriller'], ['Animation', 'Drama', 'War'], ['Western'], ['Biography', 'Drama', 'History', 'Musical'], ['Drama', 'Romance', 'War']]\n"
     ]
    }
   ],
   "source": [
    "movie_links = []\n",
    "movies = container[:50]\n",
    "for movie in movies:\n",
    "    tag = movie.find('a')\n",
    "    link = tag.get('href', None)\n",
    "    movie_links.append(link)\n",
    "print(\"Total links\", len(movie_links))\n",
    "\n",
    "for i in range(len(movie_links)):\n",
    "    movie_links[i] = 'https://www.imdb.com'+ movie_links[i]\n",
    "    \n",
    "#movie_links\n",
    "\n",
    "import re\n",
    "genre_list=[]\n",
    "for i in movie_links:\n",
    "    movie=[]\n",
    "    page = requests.get(i, headers = headers)\n",
    "    soup = BeautifulSoup(page.content, \"html.parser\")\n",
    "    tags = soup.find(\"h4\", text=\"Genres:\").parent\n",
    "    anc= tags.select(\"a\")\n",
    "    for each in anc:\n",
    "        temp = each.text\n",
    "        temp = temp.replace(\" \",\"\")\n",
    "        movie.append(temp)\n",
    "    genre_list.append(movie[:])\n",
    "    movie.clear()\n",
    "print(genre_list)"
   ]
  },
  {
   "cell_type": "markdown",
   "metadata": {},
   "source": [
    "### STEP 3. CREATING A DICTIONARY"
   ]
  },
  {
   "cell_type": "code",
   "execution_count": 7,
   "metadata": {},
   "outputs": [
    {
     "name": "stdout",
     "output_type": "stream",
     "text": [
      "{'The Shawshank Redemption': ['Drama'], 'The Godfather': ['Crime', 'Drama'], 'The Godfather: Part II': ['Crime', 'Drama'], 'The Dark Knight': ['Action', 'Crime', 'Drama', 'Thriller'], '12 Angry Men': ['Crime', 'Drama'], \"Schindler's List\": ['Biography', 'Drama', 'History'], 'The Lord of the Rings: The Return of the King': ['Action', 'Adventure', 'Drama', 'Fantasy'], 'Pulp Fiction': ['Crime', 'Drama'], 'The Good, the Bad and the Ugly': ['Western'], 'The Lord of the Rings: The Fellowship of the Ring': ['Action', 'Adventure', 'Drama', 'Fantasy'], 'Fight Club': ['Drama'], 'Forrest Gump': ['Drama', 'Romance'], 'Inception': ['Action', 'Adventure', 'Sci-Fi', 'Thriller'], 'The Lord of the Rings: The Two Towers': ['Action', 'Adventure', 'Drama', 'Fantasy'], 'Star Wars: Episode V - The Empire Strikes Back': ['Action', 'Adventure', 'Fantasy', 'Sci-Fi'], 'The Matrix': ['Action', 'Sci-Fi'], 'Goodfellas': ['Biography', 'Crime', 'Drama'], \"One Flew Over the Cuckoo's Nest\": ['Drama'], 'Seven Samurai': ['Action', 'Adventure', 'Drama'], 'Se7en': ['Crime', 'Drama', 'Mystery', 'Thriller'], 'Life Is Beautiful': ['Comedy', 'Drama', 'Romance', 'War'], 'City of God': ['Crime', 'Drama'], 'The Silence of the Lambs': ['Crime', 'Drama', 'Thriller'], \"It's a Wonderful Life\": ['Drama', 'Family', 'Fantasy'], 'Star Wars: Episode IV - A New Hope': ['Action', 'Adventure', 'Fantasy', 'Sci-Fi'], 'Saving Private Ryan': ['Drama', 'War'], 'Spirited Away': ['Animation', 'Adventure', 'Family', 'Fantasy', 'Mystery'], 'The Green Mile': ['Crime', 'Drama', 'Fantasy', 'Mystery'], 'Interstellar': ['Adventure', 'Drama', 'Sci-Fi'], 'Parasite': ['Comedy', 'Drama', 'Thriller'], 'Léon: The Professional': ['Action', 'Crime', 'Drama', 'Thriller'], 'The Usual Suspects': ['Crime', 'Mystery', 'Thriller'], 'Hara-Kiri': ['Action', 'Drama', 'Mystery'], 'The Lion King': ['Animation', 'Adventure', 'Drama', 'Family', 'Musical'], 'The Pianist': ['Biography', 'Drama', 'Music', 'War'], 'Back to the Future': ['Adventure', 'Comedy', 'Sci-Fi'], 'Terminator 2: Judgment Day': ['Action', 'Sci-Fi'], 'American History X': ['Drama'], 'Modern Times': ['Comedy', 'Drama', 'Family', 'Romance'], 'Psycho': ['Horror', 'Mystery', 'Thriller'], 'Gladiator': ['Action', 'Adventure', 'Drama'], 'City Lights': ['Comedy', 'Drama', 'Romance'], 'The Departed': ['Crime', 'Drama', 'Thriller'], 'The Intouchables': ['Biography', 'Comedy', 'Drama'], 'Whiplash': ['Drama', 'Music'], 'The Prestige': ['Drama', 'Mystery', 'Sci-Fi', 'Thriller'], 'Grave of the Fireflies': ['Animation', 'Drama', 'War'], 'Once Upon a Time in the West': ['Western'], 'Hamilton': ['Biography', 'Drama', 'History', 'Musical'], 'Casablanca': ['Drama', 'Romance', 'War']}\n"
     ]
    }
   ],
   "source": [
    "movies_genre_imdb ={}\n",
    "keys = movie_names\n",
    "count = 0\n",
    "for i in keys:\n",
    "    movies_genre_imdb[i] = genre_list[count]\n",
    "    count = count + 1\n",
    "    \n",
    "print(movies_genre_imdb)"
   ]
  },
  {
   "cell_type": "markdown",
   "metadata": {},
   "source": [
    "# WEBSITE: www.rottentomatoes.com\n",
    "\n",
    "#### LINK: https://www.rottentomatoes.com/top/bestofrt/\n",
    "\n",
    "### STEP 1. EXTRACTING MOVIE NAMES "
   ]
  },
  {
   "cell_type": "code",
   "execution_count": 8,
   "metadata": {},
   "outputs": [
    {
     "name": "stdout",
     "output_type": "stream",
     "text": [
      "['Black Panther', 'Avengers Endgame', 'Us', 'Toy Story', 'Lady Bird', 'Citizen Kane', 'Mission Impossible  Fallout', 'The Wizard of Oz', 'BlacKkKlansman', 'Get Out', 'The Irishman', 'Mad Max Fury Road', 'SpiderMan Into the SpiderVerse', 'Casablanca', 'Moonlight', 'A Star Is Born', 'Wonder Woman', 'Dunkirk', 'Inside Out', 'The Farewell', 'A Quiet Place', 'Modern Times', 'Eighth Grade', 'It Happened One Night', 'Booksmart', 'A Night at the Opera', 'Roma', 'The Third Man', 'Coco', 'Thor Ragnarok', 'The Shape of Water', 'Spotlight', 'Selma', 'The Godfather', 'La Grande illusion Grand Illusion', 'Arrival', 'Singin in the Rain', 'Snow White and the Seven Dwarfs', 'Logan', 'The Cabinet of Dr Caligari Das Cabinet des Dr Caligari', 'Double Indemnity', 'The Favourite', 'The Big Sick', 'SpiderMan Far From Home', 'ET The ExtraTerrestrial', 'Star Wars The Last Jedi', 'All About Eve', 'Shadow of a Doubt', 'The Kid', 'Paddington']\n"
     ]
    }
   ],
   "source": [
    "url = \"https://www.rottentomatoes.com/top/bestofrt/\"\n",
    "page = requests.get(url, headers = headers)\n",
    "soup = BeautifulSoup(page.content, \"html.parser\")\n",
    "\n",
    "container = soup.find('table', class_='table')\n",
    "movie_names = container.find_all('a', class_ = 'unstyled articleLink')\n",
    "\n",
    "import re\n",
    "names = []\n",
    "movie_names = movie_names[:50]\n",
    "for i in range(len(movie_names)):\n",
    "    temp = movie_names[i].text\n",
    "    temp = re.sub(r'[^\\w\\s]','',temp)\n",
    "    temp = re.sub('[0-9]+','',temp)\n",
    "    temp = temp.strip()\n",
    "    names.append(temp)\n",
    "print(names)"
   ]
  },
  {
   "cell_type": "markdown",
   "metadata": {},
   "source": [
    "### STEP 2. EXTRACTING GENRES"
   ]
  },
  {
   "cell_type": "code",
   "execution_count": 9,
   "metadata": {},
   "outputs": [],
   "source": [
    "#class meta-value genre\n",
    "\n",
    "movie_links = []\n",
    "movies = movie_names[:50]\n",
    "for movie in movies:\n",
    "    link = movie.get('href', None)\n",
    "    link = \"https://www.rottentomatoes.com\"+link\n",
    "    movie_links.append(link)\n",
    "#print(movie_links)\n",
    "#for i in range(len(movie_links)):\n",
    "#    print(movie_links[i])\n",
    "#len(movie_names)"
   ]
  },
  {
   "cell_type": "code",
   "execution_count": 10,
   "metadata": {
    "scrolled": true
   },
   "outputs": [
    {
     "name": "stdout",
     "output_type": "stream",
     "text": [
      "[['fantasy', 'action', 'adventure'], ['fantasy', 'adventure', 'sci fi', 'action'], ['horror', 'mystery and thriller'], ['fantasy', 'kids and family', 'animation', 'adventure', 'comedy'], ['drama', 'comedy'], ['drama'], ['adventure', 'mystery and thriller', 'action'], ['musical', 'kids and family', 'fantasy'], ['drama', 'comedy', 'crime'], ['horror', 'mystery and thriller', 'comedy'], ['drama', 'crime'], ['adventure', 'action'], ['fantasy', 'comedy', 'kids and family', 'animation', 'adventure', 'action'], ['drama'], ['drama'], ['drama', 'music', 'romance'], ['adventure', 'action', 'fantasy'], ['drama', 'war', 'history'], ['comedy', 'fantasy', 'kids and family', 'animation'], ['drama', 'comedy'], ['horror', 'mystery and thriller'], ['comedy'], ['drama', 'comedy'], ['romance'], ['comedy'], ['comedy'], ['drama'], ['mystery and thriller'], ['music', 'kids and family', 'animation', 'adventure', 'comedy'], ['fantasy', 'comedy', 'sci fi', 'adventure', 'action'], ['fantasy', 'romance'], ['drama'], ['drama', 'history'], ['drama', 'crime'], ['drama', 'war'], ['drama', 'sci fi', 'mystery and thriller'], ['comedy', 'musical'], ['fantasy', 'animation', 'kids and family'], ['fantasy', 'adventure', 'action'], ['horror'], ['drama', 'crime'], ['drama', 'comedy'], ['romance'], ['fantasy', 'adventure', 'action', 'comedy'], ['adventure', 'sci fi', 'kids and family'], ['fantasy', 'adventure', 'sci fi', 'action'], ['drama'], ['drama', 'mystery and thriller', 'crime'], ['drama', 'comedy'], ['adventure', 'kids and family', 'comedy']]\n"
     ]
    }
   ],
   "source": [
    "glist=[]\n",
    "arr = []\n",
    "import re\n",
    "for i in range(len(movie_links)):\n",
    "    #print(\"Movie no:\", i+1)\n",
    "    page = requests.get(movie_links[i], headers = headers)\n",
    "    soup = BeautifulSoup(page.content, \"html.parser\")    \n",
    "    tags = soup.find_all('div', class_ = 'meta-value genre') #find_all to return a list\n",
    "    for each in tags:\n",
    "        temp =each.text.strip()\n",
    "        temp = temp.split(\",\");\n",
    "        for t in temp:\n",
    "            t = t.strip()\n",
    "            arr.append(t)\n",
    "        glist.append(arr[:])\n",
    "        arr.clear()\n",
    "print(glist)"
   ]
  },
  {
   "cell_type": "markdown",
   "metadata": {},
   "source": [
    "### STEP 3. CREATING A DICTIONARY"
   ]
  },
  {
   "cell_type": "code",
   "execution_count": 11,
   "metadata": {
    "scrolled": true
   },
   "outputs": [
    {
     "name": "stdout",
     "output_type": "stream",
     "text": [
      "{'Black Panther': ['fantasy', 'action', 'adventure'], 'Avengers Endgame': ['fantasy', 'adventure', 'sci fi', 'action'], 'Us': ['horror', 'mystery and thriller'], 'Toy Story': ['fantasy', 'kids and family', 'animation', 'adventure', 'comedy'], 'Lady Bird': ['drama', 'comedy'], 'Citizen Kane': ['drama'], 'Mission Impossible  Fallout': ['adventure', 'mystery and thriller', 'action'], 'The Wizard of Oz': ['musical', 'kids and family', 'fantasy'], 'BlacKkKlansman': ['drama', 'comedy', 'crime'], 'Get Out': ['horror', 'mystery and thriller', 'comedy'], 'The Irishman': ['drama', 'crime'], 'Mad Max Fury Road': ['adventure', 'action'], 'SpiderMan Into the SpiderVerse': ['fantasy', 'comedy', 'kids and family', 'animation', 'adventure', 'action'], 'Casablanca': ['drama'], 'Moonlight': ['drama'], 'A Star Is Born': ['drama', 'music', 'romance'], 'Wonder Woman': ['adventure', 'action', 'fantasy'], 'Dunkirk': ['drama', 'war', 'history'], 'Inside Out': ['comedy', 'fantasy', 'kids and family', 'animation'], 'The Farewell': ['drama', 'comedy'], 'A Quiet Place': ['horror', 'mystery and thriller'], 'Modern Times': ['comedy'], 'Eighth Grade': ['drama', 'comedy'], 'It Happened One Night': ['romance'], 'Booksmart': ['comedy'], 'A Night at the Opera': ['comedy'], 'Roma': ['drama'], 'The Third Man': ['mystery and thriller'], 'Coco': ['music', 'kids and family', 'animation', 'adventure', 'comedy'], 'Thor Ragnarok': ['fantasy', 'comedy', 'sci fi', 'adventure', 'action'], 'The Shape of Water': ['fantasy', 'romance'], 'Spotlight': ['drama'], 'Selma': ['drama', 'history'], 'The Godfather': ['drama', 'crime'], 'La Grande illusion Grand Illusion': ['drama', 'war'], 'Arrival': ['drama', 'sci fi', 'mystery and thriller'], 'Singin in the Rain': ['comedy', 'musical'], 'Snow White and the Seven Dwarfs': ['fantasy', 'animation', 'kids and family'], 'Logan': ['fantasy', 'adventure', 'action'], 'The Cabinet of Dr Caligari Das Cabinet des Dr Caligari': ['horror'], 'Double Indemnity': ['drama', 'crime'], 'The Favourite': ['drama', 'comedy'], 'The Big Sick': ['romance'], 'SpiderMan Far From Home': ['fantasy', 'adventure', 'action', 'comedy'], 'ET The ExtraTerrestrial': ['adventure', 'sci fi', 'kids and family'], 'Star Wars The Last Jedi': ['fantasy', 'adventure', 'sci fi', 'action'], 'All About Eve': ['drama'], 'Shadow of a Doubt': ['drama', 'mystery and thriller', 'crime'], 'The Kid': ['drama', 'comedy'], 'Paddington': ['adventure', 'kids and family', 'comedy']}\n"
     ]
    }
   ],
   "source": [
    "movies_genre_rt ={}\n",
    "keys = names\n",
    "count = 0\n",
    "for i in keys:\n",
    "    movies_genre_rt[i] = glist[count]\n",
    "    count = count + 1\n",
    "    \n",
    "print(movies_genre_rt)"
   ]
  },
  {
   "cell_type": "markdown",
   "metadata": {},
   "source": [
    "### For now, we have 3 dictionaries,  from 3 websites.\n",
    "\n",
    "#### 1. movies_genre_meta\n",
    "#### 2. movies_genre_imdb\n",
    "#### 3. movies_genre_rt\n",
    "\n",
    "### Next we will be creating CSV files and DB files, clean the data and perform the analysis"
   ]
  },
  {
   "cell_type": "markdown",
   "metadata": {},
   "source": [
    "\n",
    "## CREATING .CSV FILES"
   ]
  },
  {
   "cell_type": "code",
   "execution_count": 12,
   "metadata": {},
   "outputs": [
    {
     "name": "stdout",
     "output_type": "stream",
     "text": [
      "CSV FILE CREATED.\n"
     ]
    }
   ],
   "source": [
    "import os\n",
    "import csv\n",
    "\n",
    "list1=[]\n",
    "for key in movies_genre_rt:\n",
    "    temp=[]\n",
    "    temp.append(key)\n",
    "    for val in movies_genre_rt[key]:\n",
    "        val = val.lower()\n",
    "        val =re.sub(r'[^\\w\\s]','',val)\n",
    "        temp.append(val)\n",
    "    list1.append(temp)\n",
    "#print(list1)\n",
    "\n",
    "f = open('genre.csv', 'w')\n",
    "with f:   \n",
    "    writer = csv.writer(f,lineterminator='\\n')\n",
    "    for row in list1:\n",
    "        writer.writerow(row)\n",
    "\n",
    "list2=[]\n",
    "for key in movies_genre_imdb:\n",
    "    temp=[]\n",
    "    temp.append(key)\n",
    "    for val in movies_genre_imdb[key]:\n",
    "        val = val.lower()\n",
    "        temp.append(val)\n",
    "    list2.append(temp)\n",
    "\n",
    "f = open('genre.csv', 'a')\n",
    "with f:   \n",
    "    writer = csv.writer(f,lineterminator='\\n')\n",
    "    for row in list2:\n",
    "        writer.writerow(row)\n",
    "            \n",
    "list3=[]\n",
    "for key in movies_genre_meta:\n",
    "    temp=[]\n",
    "    temp.append(key)\n",
    "    for val in movies_genre_meta[key]:\n",
    "        val = val.lower()\n",
    "        temp.append(val)\n",
    "    list3.append(temp)\n",
    "\n",
    "f = open('genre.csv', 'a')\n",
    "\n",
    "with f:   \n",
    "    writer = csv.writer(f,lineterminator='\\n')\n",
    "    for row in list3:\n",
    "        writer.writerow(row)\n",
    "        \n",
    "        \n",
    "print(\"CSV FILE CREATED.\")"
   ]
  },
  {
   "cell_type": "markdown",
   "metadata": {},
   "source": [
    "# CREATING THE KEYWORD FREQUENCY DICTIONARY"
   ]
  },
  {
   "cell_type": "code",
   "execution_count": 13,
   "metadata": {
    "scrolled": true
   },
   "outputs": [
    {
     "name": "stdout",
     "output_type": "stream",
     "text": [
      "Imdb-\n",
      "{'drama': 39, 'crime': 13, 'action': 13, 'thriller': 10, 'biography': 5, 'history': 2, 'adventure': 12, 'fantasy': 8, 'western': 2, 'romance': 5, 'scifi': 8, 'mystery': 7, 'comedy': 6, 'war': 5, 'family': 4, 'animation': 3, 'musical': 2, 'music': 2, 'horror': 1, 'mysteryandthriller': 0, 'kidsandfamily': 0, 'filmnoir': 0, 'sport': 0, 'documentary': 0}\n",
      "\n",
      "\n",
      "Rotten Tomatoes-\n",
      "{'fantasy': 13, 'action': 10, 'adventure': 14, 'scifi': 5, 'horror': 4, 'mysteryandthriller': 7, 'kidsandfamily': 8, 'animation': 5, 'comedy': 18, 'drama': 21, 'musical': 2, 'crime': 5, 'music': 2, 'romance': 4, 'war': 2, 'history': 2, 'thriller': 0, 'biography': 0, 'western': 0, 'mystery': 0, 'family': 0, 'filmnoir': 0, 'sport': 0, 'documentary': 0}\n",
      "\n",
      "\n",
      "Metacritics-\n",
      "{'drama': 39, 'mystery': 10, 'thriller': 13, 'crime': 4, 'romance': 11, 'war': 5, 'filmnoir': 4, 'comedy': 9, 'musical': 3, 'history': 5, 'fantasy': 3, 'animation': 3, 'family': 3, 'adventure': 3, 'western': 2, 'action': 3, 'sport': 1, 'documentary': 1, 'biography': 2, 'horror': 3, 'music': 1, 'scifi': 0, 'mysteryandthriller': 0, 'kidsandfamily': 0}\n",
      "\n",
      "\n"
     ]
    }
   ],
   "source": [
    "imdbDict={}\n",
    "\n",
    "for key in movies_genre_imdb:\n",
    "    for val in movies_genre_imdb[key]:\n",
    "        val=val.lower()\n",
    "        val = re.sub(r'[^\\w\\s]','',val)\n",
    "        val = val.replace(\" \",\"\")\n",
    "        if val in imdbDict:\n",
    "            imdbDict[val]+=1\n",
    "        else:\n",
    "            imdbDict[val]=1\n",
    "rtDict={}\n",
    "\n",
    "for key in movies_genre_rt:\n",
    "    for val in movies_genre_rt[key]:\n",
    "        val=val.lower()\n",
    "        val = re.sub(r'[^\\w\\s]','',val)\n",
    "        val = val.replace(\" \",\"\")\n",
    "        if val in rtDict:\n",
    "            rtDict[val]+=1\n",
    "        else:\n",
    "            rtDict[val]=1\n",
    "            \n",
    "metaDict={}\n",
    "\n",
    "for key in movies_genre_meta:\n",
    "    for val in movies_genre_meta[key]:\n",
    "        val=val.lower()\n",
    "        val = re.sub(r'[^\\w\\s]','',val)\n",
    "        val = val.replace(\" \",\"\")\n",
    "        if val in metaDict:\n",
    "            metaDict[val]+=1\n",
    "        else:\n",
    "            metaDict[val]=1\n",
    "# print(\"Imdb-\")\n",
    "# print(imdbDict)\n",
    "\n",
    "# print(\"\\n\")\n",
    "# print(\"Rottentomatoes-\")\n",
    "# print(rtDict)\n",
    "# print(\"\\n\")\n",
    "# print(\"Metacritics\")\n",
    "# print(metaDict)\n",
    "\n",
    "\n",
    "for key in imdbDict:\n",
    "    if key not in rtDict:\n",
    "        rtDict[key] = 0\n",
    "    if key not in metaDict:\n",
    "        metaDict[key] = 0\n",
    "        \n",
    "\n",
    "for key in rtDict:\n",
    "    if key not in imdbDict:\n",
    "        imdbDict[key] = 0\n",
    "    if key not in metaDict:\n",
    "        metaDict[key] = 0\n",
    "        \n",
    "for key in metaDict:\n",
    "    if key not in rtDict:\n",
    "        rtDict[key] = 0\n",
    "    if key not in imdbDict:\n",
    "        imdbDict[key] = 0\n",
    "        \n",
    "    \n",
    "print(\"Imdb-\")    \n",
    "print(imdbDict)\n",
    "\n",
    "print('\\n')\n",
    "\n",
    "print(\"Rotten Tomatoes-\")\n",
    "print(rtDict)\n",
    "print('\\n')\n",
    "\n",
    "print(\"Metacritics-\")\n",
    "print(metaDict)\n",
    "print('\\n')"
   ]
  },
  {
   "cell_type": "markdown",
   "metadata": {},
   "source": [
    "# Calculating Scores:\n",
    "\n",
    "<img src=\"image.png\">"
   ]
  },
  {
   "cell_type": "markdown",
   "metadata": {},
   "source": [
    "# Score between IMDB & RottenTomatoes"
   ]
  },
  {
   "cell_type": "code",
   "execution_count": 14,
   "metadata": {},
   "outputs": [
    {
     "name": "stdout",
     "output_type": "stream",
     "text": [
      "0.7915952017022123\n"
     ]
    }
   ],
   "source": [
    "#SCORE BETWEEN IMDB & RT\n",
    "import math\n",
    "\n",
    "line1=[]\n",
    "line2=[]\n",
    "\n",
    "for key in imdbDict:\n",
    "    line1.append(imdbDict[key])\n",
    "    line2.append(rtDict[key])\n",
    "        \n",
    "# print(line1)\n",
    "# print(line2)\n",
    "        \n",
    "# print(imdbDict)\n",
    "# print(rtDict)        \n",
    "        \n",
    "        \n",
    "# print(\"line 1 len:\",len(line1))\n",
    "# print(line1)\n",
    "# print(\"line 2 len:\",len(line2))\n",
    "# print(line2)\n",
    "\n",
    "num=0\n",
    "for i in range(len(line1)):\n",
    "    num+=line1[i]*line2[i]\n",
    "\n",
    "\n",
    "    \n",
    "den1=0\n",
    "for i in range(len(line1)):\n",
    "    den1+=line1[i]**2\n",
    "den1=math.sqrt(den1)\n",
    "den2=0\n",
    "\n",
    "\n",
    "for i in range(len(line1)):\n",
    "    den2+=line2[i]**2\n",
    "den2=math.sqrt(den2)\n",
    "\n",
    "den=den1*den2\n",
    "# print(num)\n",
    "\n",
    "print(num/den)"
   ]
  },
  {
   "cell_type": "markdown",
   "metadata": {},
   "source": [
    "# Score between IMDB & MetaCritics"
   ]
  },
  {
   "cell_type": "code",
   "execution_count": 15,
   "metadata": {
    "scrolled": true
   },
   "outputs": [
    {
     "name": "stdout",
     "output_type": "stream",
     "text": [
      "0.9019873939979214\n"
     ]
    }
   ],
   "source": [
    "#SCORE BETWEEN IMDB & META\n",
    "import math\n",
    "\n",
    "line1=[]\n",
    "line2=[]\n",
    "\n",
    "for key in imdbDict:\n",
    "    line1.append(imdbDict[key])\n",
    "    line2.append(metaDict[key])\n",
    "\n",
    "\n",
    "# print(\"line 1 len:\",len(line1))\n",
    "# print(line1)\n",
    "# print(\"line 2 len:\",len(line2))\n",
    "# print(line2)\n",
    "\n",
    "num=0\n",
    "\n",
    "for i in range(len(line1)):\n",
    "    num+=line1[i]*line2[i]\n",
    "\n",
    "den1=0\n",
    "\n",
    "for i in range(len(line1)):\n",
    "    den1+=line1[i]**2\n",
    "den1=math.sqrt(den1)\n",
    "den2=0\n",
    "for i in range(len(line1)):\n",
    "    den2+=line2[i]**2\n",
    "den2=math.sqrt(den2)\n",
    "\n",
    "den=den1*den2\n",
    "# print(num)\n",
    "\n",
    "print(num/den)"
   ]
  },
  {
   "cell_type": "markdown",
   "metadata": {},
   "source": [
    "# Score between RottenTomatoes & MetaCritics"
   ]
  },
  {
   "cell_type": "code",
   "execution_count": 16,
   "metadata": {},
   "outputs": [
    {
     "name": "stdout",
     "output_type": "stream",
     "text": [
      "0.6824329998331107\n"
     ]
    }
   ],
   "source": [
    "#SCORE BETWEEN RT & META\n",
    "import math\n",
    "\n",
    "line1=[]\n",
    "line2=[]\n",
    "\n",
    "for key in metaDict:\n",
    "    line1.append(rtDict[key])\n",
    "    line2.append(metaDict[key])\n",
    "       \n",
    "# print(\"line 1 len:\",len(line1))\n",
    "# print(line1)\n",
    "# print(\"line 2 len:\",len(line2))\n",
    "# print(line2)\n",
    "\n",
    "\n",
    "num=0\n",
    "\n",
    "for i in range(len(line1)):\n",
    "    num+=line1[i]*line2[i]\n",
    "\n",
    "den1=0\n",
    "\n",
    "for i in range(len(line1)):\n",
    "    den1+=line1[i]**2\n",
    "den1=math.sqrt(den1)\n",
    "den2=0\n",
    "for i in range(len(line1)):\n",
    "    den2+=line2[i]**2\n",
    "den2=math.sqrt(den2)\n",
    "\n",
    "den=den1*den2\n",
    "# print(num)\n",
    "\n",
    "print(num/den)"
   ]
  }
 ],
 "metadata": {
  "kernelspec": {
   "display_name": "Python 3",
   "language": "python",
   "name": "python3"
  },
  "language_info": {
   "codemirror_mode": {
    "name": "ipython",
    "version": 3
   },
   "file_extension": ".py",
   "mimetype": "text/x-python",
   "name": "python",
   "nbconvert_exporter": "python",
   "pygments_lexer": "ipython3",
   "version": "3.7.4"
  }
 },
 "nbformat": 4,
 "nbformat_minor": 2
}
